{
  "nbformat": 4,
  "nbformat_minor": 0,
  "metadata": {
    "colab": {
      "provenance": [],
      "authorship_tag": "ABX9TyOdZVOFixJT70+moq6mwMqw",
      "include_colab_link": true
    },
    "kernelspec": {
      "name": "python3",
      "display_name": "Python 3"
    },
    "language_info": {
      "name": "python"
    }
  },
  "cells": [
    {
      "cell_type": "markdown",
      "metadata": {
        "id": "view-in-github",
        "colab_type": "text"
      },
      "source": [
        "<a href=\"https://colab.research.google.com/github/eljuanessoy/Reto_7/blob/main/Reto_7.ipynb\" target=\"_parent\"><img src=\"https://colab.research.google.com/assets/colab-badge.svg\" alt=\"Open In Colab\"/></a>"
      ]
    },
    {
      "cell_type": "code",
      "source": [
        "n : int = 1\n",
        "while n <= 100:\n",
        "  cuadrado = n**2\n",
        "  print(cuadrado)\n",
        "  n += 1"
      ],
      "metadata": {
        "id": "LOOmuhGoxuLf"
      },
      "execution_count": null,
      "outputs": []
    },
    {
      "cell_type": "code",
      "source": [
        "n : int = 0\n",
        "m : int = -1\n",
        "\n",
        "while m < 999:\n",
        "    m += 2\n",
        "    print(m)\n",
        "\n",
        "while n < 1000:\n",
        "    n += 2\n",
        "    print(n)"
      ],
      "metadata": {
        "id": "qOAFkRwTxuPx"
      },
      "execution_count": null,
      "outputs": []
    },
    {
      "cell_type": "code",
      "source": [
        "n = int(input(\"Ingrese un número natural mayor o igual a 2: \"))\n",
        "print(f\"Los números pares anteriores a {n} en forma descendente es: \")\n",
        "\n",
        "while n > 2:\n",
        "    if n % 2 == 0:\n",
        "        n -= 2\n",
        "    else:\n",
        "        n = n + 1\n",
        "        n -= 2\n",
        "    print(n)"
      ],
      "metadata": {
        "id": "sf-6-2kjxuUd"
      },
      "execution_count": null,
      "outputs": []
    },
    {
      "cell_type": "code",
      "source": [
        "A : int = 25\n",
        "B : float = 18.9\n",
        "Año : int = 2022\n",
        "\n",
        "while B <= A:\n",
        "    CrecimientoAnualA = (A * 0.02)\n",
        "    CrecimientoAnualB = (B * 0.03)\n",
        "    A += CrecimientoAnualA\n",
        "    B += CrecimientoAnualB\n",
        "    Año += 1\n",
        "\n",
        "print(f\"Para el año {Año} la población B superará a la pobción A\")"
      ],
      "metadata": {
        "id": "g4TA8KyzxuYN"
      },
      "execution_count": null,
      "outputs": []
    },
    {
      "cell_type": "code",
      "source": [
        "m = int(input(\"Ingrese un número natural: \"))\n",
        "ResultadoFactorial = 1\n",
        "\n",
        "while m > 0:\n",
        "  ResultadoFactorial *= m\n",
        "  m -= 1\n",
        "\n",
        "print(f\"El factorial del valor ingresado es: {ResultadoFactorial}\")"
      ],
      "metadata": {
        "id": "mUow49j2xucX"
      },
      "execution_count": null,
      "outputs": []
    },
    {
      "cell_type": "code",
      "source": [
        "import random\n",
        "def adivinar():\n",
        "    print(\"Piensa en un número de 1 a 100, de seguro lo adivinare a la primera :D\")\n",
        "    print(\"(Escribe 'Si' si es igual, 'Menor' si es menor o 'Mayor' si es mayor)\")\n",
        "    min = 1\n",
        "    max = 100\n",
        "    while True:\n",
        "        n = random.randint(min, max)\n",
        "        print(f\"¿El número en el que pensaste es {n}?\")\n",
        "        respuesta = input()\n",
        "        if respuesta == 'Si':\n",
        "            print(\"Ves? Te dije que lo adivinaria a la primera\")\n",
        "            break\n",
        "        elif respuesta == 'Menor':\n",
        "            max = n - 1\n",
        "        elif respuesta == 'Mayor':\n",
        "            min = n + 1\n",
        "        else:\n",
        "            print(\"Creo que deberias leer las instrucciones que te di :d\")\n",
        "            break\n",
        "adivinar()"
      ],
      "metadata": {
        "id": "kOOMNNekxufw"
      },
      "execution_count": null,
      "outputs": []
    },
    {
      "cell_type": "code",
      "source": [
        "n = int(input(\"Ingresa un valor de 2 a 50: \"))\n",
        "x : int = n\n",
        "print(f\"Los divisores de {n} son:\")\n",
        "\n",
        "while x >= 1:\n",
        "    if n % x == 0:\n",
        "        print(x)\n",
        "    x -= 1"
      ],
      "metadata": {
        "id": "9exHrMtlxujf"
      },
      "execution_count": null,
      "outputs": []
    },
    {
      "cell_type": "code",
      "source": [
        "def NumerosPrimos(n):\n",
        "    while n <= 100:\n",
        "        i = 2\n",
        "        primo = True\n",
        "        while i < n:\n",
        "            if n % i == 0:\n",
        "                primo = False\n",
        "                break\n",
        "            i += 1\n",
        "        if primo:\n",
        "            print(n)\n",
        "        n += 1\n",
        "\n",
        "if __name__ == \"__main__\":\n",
        "    n = 2\n",
        "    NumerosPrimos(n)"
      ],
      "metadata": {
        "id": "c3BHrvA6xunG"
      },
      "execution_count": null,
      "outputs": []
    }
  ]
}